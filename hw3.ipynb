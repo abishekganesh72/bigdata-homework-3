{
 "cells": [
  {
   "cell_type": "code",
   "execution_count": 1,
   "metadata": {
    "collapsed": true
   },
   "outputs": [],
   "source": [
    "####\n",
    "# ML Homework\n",
    "# Abishek Ganesh\n",
    "####\n",
    "sqlContext\n",
    "from pyspark.sql.functions import udf\n",
    "from pyspark.ml.feature import VectorAssembler, VectorIndexer\n",
    "from pyspark.ml.pipeline import Pipeline\n",
    "from pyspark.sql.types import IntegerType\n",
    "from pyspark.sql.types import StringType\n",
    "from pyspark.ml.feature import Normalizer\n",
    "from pyspark.ml.feature import StandardScaler\n",
    "from pyspark.ml.feature import PCA\n",
    "\n",
    "from pyspark.ml.classification import LogisticRegression, OneVsRest\n",
    "from pyspark.ml.evaluation import MulticlassClassificationEvaluator\n",
    "from pyspark.ml.tuning import ParamGridBuilder, CrossValidator\n",
    "from pyspark.ml.classification import LogisticRegression\n",
    "from pyspark.ml.evaluation import MulticlassClassificationEvaluator\n",
    "from pyspark.ml.evaluation import BinaryClassificationEvaluator\n",
    "from pyspark.ml.classification import RandomForestClassifier\n",
    "from pyspark.ml.classification import DecisionTreeClassifier"
   ]
  },
  {
   "cell_type": "code",
   "execution_count": 2,
   "metadata": {
    "collapsed": true
   },
   "outputs": [],
   "source": [
    "read_data = sqlContext.read.csv(\"/FileStore/tables/f5rw9ku71493048580496/winequality_white-d3c3e.csv\", header = True, sep=';', inferSchema=True)\n",
    "print read_data.dtypes, len(read_data.dtypes)\n",
    "read_data.show()"
   ]
  },
  {
   "cell_type": "code",
   "execution_count": 3,
   "metadata": {
    "collapsed": true
   },
   "outputs": [],
   "source": [
    "# Define Metrics \n",
    "from pyspark.mllib.evaluation import MulticlassMetrics\n",
    "def printMetrics(predictions_and_labels):\n",
    "    metrics = MulticlassMetrics(predictions_and_labels)\n",
    "    print 'Precision of True ', metrics.precision(1)\n",
    "    print 'Precision of False', metrics.precision(0)\n",
    "    print 'Recall of True    ', metrics.recall(1)\n",
    "    print 'Recall of False   ', metrics.recall(0)\n",
    "    print 'F-1 Score         ', metrics.fMeasure()\n",
    "    print 'Confusion Matrix\\n', metrics.confusionMatrix().toArray()"
   ]
  },
  {
   "cell_type": "code",
   "execution_count": 5,
   "metadata": {
    "collapsed": true
   },
   "outputs": [],
   "source": [
    "def val_check(x):\n",
    "  x = int(x)\n",
    "  if x>=0 and x < 6:\n",
    "    return 0\n",
    "  if x > 6 and x <=10:\n",
    "    return 2\n",
    "  if x == 6:\n",
    "    return 1\n",
    "balance_class = udf(lambda x : val_check(x) ,IntegerType())\n",
    "  \n",
    "#1 = original\n",
    "#2 = class Balance\n",
    "#3 = correlation removed\n",
    "#4 = Normalization\n",
    "#5 = Std Scalar\n",
    "#6 = PCA\n",
    "#7 = Sampling \n",
    "\n",
    "typ = 7\n",
    "\n",
    "\n",
    "#1 = original\n",
    "if typ == 1:\n",
    "  input_data = read_data.withColumn('label', read_data.quality)\n",
    "  va  = VectorAssembler(inputCols=[\"fixed acidity\", \"volatile acidity\", \"citric acid\", \"residual sugar\", \"chlorides\", \"free sulfur dioxide\", \"total sulfur dioxide\", \"density\", \"pH\", \"sulphates\", \"alcohol\"], outputCol=\"features\")\n",
    "  pipeline = Pipeline(stages= [va])\n",
    "\n",
    "#2 = class Balance \n",
    "if typ == 2:\n",
    "  input_data = read_data.withColumn('label', balance_class(read_data.quality))\n",
    "  va  = VectorAssembler(inputCols=[\"fixed acidity\", \"volatile acidity\", \"citric acid\", \"residual sugar\", \"chlorides\", \"free sulfur dioxide\", \"total sulfur dioxide\", \"density\", \"pH\", \"sulphates\", \"alcohol\"], outputCol=\"features\")\n",
    "  pipeline = Pipeline(stages= [va])\n",
    "\n",
    "#3 = Feature Selection\n",
    "if typ == 3:\n",
    "  input_data = read_data.withColumn('label', balance_class(read_data.quality))\n",
    "  va  = VectorAssembler(inputCols=[\"fixed acidity\", \"volatile acidity\", \"citric acid\", \"residual sugar\", \"chlorides\",  \"total sulfur dioxide\", \"pH\", \"sulphates\", \"alcohol\"], outputCol=\"features\") # free sulfur dioxide and density removed for clearing association  \n",
    "  pipeline = Pipeline(stages= [va])\n",
    "\n",
    "#4 = Normalization\n",
    "if typ == 4:\n",
    "  input_data = read_data.withColumn('label', balance_class(read_data.quality))\n",
    "  va  = VectorAssembler(inputCols=[\"fixed acidity\", \"volatile acidity\", \"citric acid\", \"residual sugar\", \"chlorides\", \"free sulfur dioxide\", \"total sulfur dioxide\", \"density\", \"pH\", \"sulphates\", \"alcohol\"], outputCol=\"features1\")\n",
    "  normalizer = Normalizer(inputCol=\"features1\", outputCol=\"features\", p=1.0)\n",
    "  pipeline = Pipeline(stages= [va, normalizer])\n",
    "  \n",
    "#5 Std Scalar\n",
    "if typ == 5:\n",
    "  input_data = read_data.withColumn('label', balance_class(read_data.quality))\n",
    "  va  = VectorAssembler(inputCols=[\"fixed acidity\", \"volatile acidity\", \"citric acid\", \"residual sugar\", \"chlorides\", \"free sulfur dioxide\", \"total sulfur dioxide\", \"density\", \"pH\", \"sulphates\", \"alcohol\"], outputCol=\"features1\")\n",
    "  scalar = StandardScaler(inputCol=\"features1\", outputCol=\"features\", withStd=True, withMean=True)\n",
    "  pipeline = Pipeline(stages= [va, scalar])\n",
    "\n",
    "#PCA\n",
    "if typ == 6:\n",
    "  input_data = read_data.withColumn('label', balance_class(read_data.quality))\n",
    "  va  = VectorAssembler(inputCols=[\"fixed acidity\", \"volatile acidity\", \"citric acid\", \"residual sugar\", \"chlorides\", \"free sulfur dioxide\", \"total sulfur dioxide\", \"density\", \"pH\", \"sulphates\", \"alcohol\"], outputCol=\"features1\")\n",
    "  pca = PCA(k=2, inputCol=\"features1\", outputCol=\"features\")\n",
    "  pipeline = Pipeline(stages= [va, pca])\n",
    "\n",
    "if typ == 7:\n",
    "  input_data = read_data.withColumn('label', balance_class(read_data.quality)).sampleBy('label', fractions={0:0.3, 1:0.3, 2:0.4})\n",
    "  va  = VectorAssembler(inputCols=[\"fixed acidity\", \"volatile acidity\", \"citric acid\", \"residual sugar\", \"chlorides\", \"free sulfur dioxide\", \"total sulfur dioxide\", \"density\", \"pH\", \"sulphates\", \"alcohol\"], outputCol=\"features\")\n",
    "  pipeline = Pipeline(stages= [va])\n",
    "\n",
    "\n",
    "\n",
    "input_data.cache()\n",
    "print input_data.dtypes , len(input_data.dtypes)\n",
    "print pipeline.getStages()"
   ]
  },
  {
   "cell_type": "code",
   "execution_count": 6,
   "metadata": {
    "collapsed": true
   },
   "outputs": [],
   "source": [
    "dataset = pipeline.fit(input_data).transform(input_data).select('features', 'label')\n",
    "dataset.show(5)\n",
    "dataset.dtypes"
   ]
  },
  {
   "cell_type": "code",
   "execution_count": 7,
   "metadata": {
    "collapsed": true
   },
   "outputs": [],
   "source": [
    "# Set Data for train and set\n",
    "(train, test)  = dataset.randomSplit([0.70, 0.30] ,seed = 100)\n",
    "print train.count()\n",
    "print test.count()"
   ]
  },
  {
   "cell_type": "code",
   "execution_count": 8,
   "metadata": {
    "collapsed": true
   },
   "outputs": [],
   "source": [
    "####\n",
    "#Logistic Regression Part 1 : Train\n",
    "####\n",
    "\n",
    "lr = LogisticRegression(labelCol='label', featuresCol='features', maxIter=1000000)\n",
    "evaluator = BinaryClassificationEvaluator(rawPredictionCol=\"rawPrediction\")\n",
    "paramGrid = (ParamGridBuilder()\n",
    "             .addGrid(lr.regParam, [0.01, 0.5, 2.0])\n",
    "             .addGrid(lr.elasticNetParam, [0.0, 0.5, 1.0])\n",
    "             .addGrid(lr.maxIter, [1, 5, 10])\n",
    "             .build())\n",
    "cv = CrossValidator(estimator=lr, estimatorParamMaps=paramGrid, evaluator=evaluator, numFolds=5)\n",
    "lrcvModel = cv.fit(train)"
   ]
  },
  {
   "cell_type": "code",
   "execution_count": 9,
   "metadata": {
    "collapsed": true
   },
   "outputs": [],
   "source": [
    "####\n",
    "#Logistic Regression Part 2 : Test\n",
    "####\n",
    "\n",
    "predictions = lrcvModel.transform(test)\n",
    "\n",
    "evaluator = MulticlassClassificationEvaluator( metricName='accuracy' )\n",
    "print evaluator.getMetricName(), evaluator.evaluate(predictions)\n",
    "evaluator = MulticlassClassificationEvaluator( metricName='f1' )\n",
    "print evaluator.getMetricName(), evaluator.evaluate(predictions)\n",
    "\n",
    "if typ !=1:\n",
    "  printMetrics(predictions.select('prediction', 'label' ).rdd.map(lambda x : (x[0],float(x[1]))))"
   ]
  },
  {
   "cell_type": "code",
   "execution_count": 10,
   "metadata": {
    "collapsed": true
   },
   "outputs": [],
   "source": [
    "####\n",
    "#Random Forest Classifier Part 1 : Train\n",
    "####\n",
    "\n",
    "rf = RandomForestClassifier(labelCol=\"label\", featuresCol=\"features\", numTrees=10)\n",
    "evaluator = BinaryClassificationEvaluator(rawPredictionCol=\"rawPrediction\")\n",
    "paramGrid = (ParamGridBuilder()\n",
    "             .addGrid(lr.regParam, [0.01, 0.5, 2.0])\n",
    "             .addGrid(lr.elasticNetParam, [0.0, 0.5, 1.0])\n",
    "             .addGrid(lr.maxIter, [1, 5, 10])\n",
    "             .build())\n",
    "\n",
    "cv = CrossValidator(estimator=rf, estimatorParamMaps=paramGrid, evaluator=evaluator, numFolds=5)\n",
    "rfcvModel = cv.fit(train)"
   ]
  },
  {
   "cell_type": "code",
   "execution_count": 11,
   "metadata": {
    "collapsed": true
   },
   "outputs": [],
   "source": [
    "####\n",
    "#Random Forest Classifier Part 2 : Test\n",
    "####\n",
    "predictions = rfcvModel.transform(test)\n",
    "evaluator = MulticlassClassificationEvaluator( metricName='accuracy' )\n",
    "print evaluator.getMetricName(), evaluator.evaluate(predictions)\n",
    "evaluator = MulticlassClassificationEvaluator( metricName='f1' )\n",
    "print evaluator.getMetricName(), evaluator.evaluate(predictions)\n",
    "if typ !=1:\n",
    "  printMetrics(predictions.select('prediction', 'label' ).rdd.map(lambda x : (x[0],float(x[1]))))"
   ]
  },
  {
   "cell_type": "code",
   "execution_count": 12,
   "metadata": {
    "collapsed": true
   },
   "outputs": [],
   "source": [
    "####\n",
    "#Decision Tree Classifier Part 1 : Train\n",
    "####\n",
    "\n",
    "dt = DecisionTreeClassifier(labelCol=\"label\", featuresCol=\"features\")\n",
    "evaluator = BinaryClassificationEvaluator(rawPredictionCol=\"rawPrediction\")\n",
    "paramGrid = (ParamGridBuilder()\n",
    "             .addGrid(dt.maxDepth, [1,2,6,10])\n",
    "             .addGrid(dt.maxBins, [20,40,80])\n",
    "             .build())\n",
    "\n",
    "cv = CrossValidator(estimator=dt, estimatorParamMaps=paramGrid, evaluator=evaluator, numFolds=5)\n",
    "dtcvModel = cv.fit(train)"
   ]
  },
  {
   "cell_type": "code",
   "execution_count": 13,
   "metadata": {
    "collapsed": true
   },
   "outputs": [],
   "source": [
    "####\n",
    "#Decision Tree Classifier Part 2 : Test\n",
    "####\n",
    "predictions = dtcvModel.transform(test)\n",
    "evaluator = MulticlassClassificationEvaluator( metricName='accuracy' )\n",
    "print evaluator.getMetricName(), evaluator.evaluate(predictions)\n",
    "evaluator = MulticlassClassificationEvaluator( metricName='f1' )\n",
    "print evaluator.getMetricName(), evaluator.evaluate(predictions)\n",
    "if typ !=1:\n",
    "  printMetrics(predictions.select('prediction', 'label' ).rdd.map(lambda x : (x[0],float(x[1]))))"
   ]
  },
  {
   "cell_type": "code",
   "execution_count": 14,
   "metadata": {
    "collapsed": true
   },
   "outputs": [],
   "source": [
    "####\n",
    "#SVM in the form of oneVrest Part 1: Train\n",
    "####\n",
    "lr = LogisticRegression(maxIter=100000, tol=1E-6, fitIntercept=True)\n",
    "ovr = OneVsRest(classifier=lr)\n",
    "paramGrid = (ParamGridBuilder()\n",
    "             .addGrid(dt.maxDepth, [1,2,6,10])\n",
    "             .addGrid(dt.maxBins, [20,40,80])\n",
    "             .build())\n",
    "cv = CrossValidator(estimator=ovr, estimatorParamMaps=paramGrid, evaluator=evaluator, numFolds=5)\n",
    "svmcvModel = cv.fit(train)"
   ]
  },
  {
   "cell_type": "code",
   "execution_count": 15,
   "metadata": {
    "collapsed": true
   },
   "outputs": [],
   "source": [
    "####\n",
    "#SVM in the form of oneVrest Part 2 :  Test\n",
    "####\n",
    "predictions =  svmcvModel.transform(test)\n",
    "evaluator = MulticlassClassificationEvaluator( metricName='accuracy' )\n",
    "print evaluator.getMetricName(), evaluator.evaluate(predictions)\n",
    "evaluator = MulticlassClassificationEvaluator( metricName='f1' )\n",
    "print evaluator.getMetricName(), evaluator.evaluate(predictions)\n",
    "if typ !=1:\n",
    "  printMetrics(predictions.select('prediction', 'label' ).rdd.map(lambda x : (x[0],float(x[1]))))"
   ]
  }
 ],
 "metadata": {
  "kernelspec": {
   "display_name": "Python 2",
   "language": "python",
   "name": "python2"
  },
  "language_info": {
   "codemirror_mode": {
    "name": "ipython",
    "version": 2
   },
   "file_extension": ".py",
   "mimetype": "text/x-python",
   "name": "python",
   "nbconvert_exporter": "python",
   "pygments_lexer": "ipython2",
   "version": "2.7.13"
  },
  "name": "test_hw3",
  "notebookId": 1181605226973216
 },
 "nbformat": 4,
 "nbformat_minor": 0
}
